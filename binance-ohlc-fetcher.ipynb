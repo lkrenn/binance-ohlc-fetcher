{
 "cells": [
  {
   "cell_type": "markdown",
   "metadata": {},
   "source": [
    "# Binance OHLC Data Fetcher"
   ]
  },
  {
   "cell_type": "code",
   "execution_count": 10,
   "metadata": {},
   "outputs": [],
   "source": [
    "import numpy as np\n",
    "import pandas as pd\n",
    "from datetime import datetime, timedelta\n",
    "import requests"
   ]
  },
  {
   "cell_type": "code",
   "execution_count": 11,
   "metadata": {},
   "outputs": [],
   "source": [
    "def date_to_timestamp(date):\n",
    "    return int(datetime.timestamp(pd.to_datetime(date)) * 1000)"
   ]
  },
  {
   "cell_type": "code",
   "execution_count": 13,
   "metadata": {},
   "outputs": [],
   "source": [
    "df = pd.DataFrame()\n",
    "start_date = \"2023-07-01\"\n",
    "end_date = \"2024-07-01\"\n",
    "\n",
    "kline_columns = ['open_timestamp', 'open','high','low','close','volume','close_timestamp','qav','num_trades','tbbav','tbqav','0']\n",
    "\n",
    "symbol = 'BTCUSDT'\n",
    "interval = '1m'\n",
    "limit = 500\n",
    "start_time = date_to_timestamp(start_date)\n",
    "end_time = date_to_timestamp(end_date)\n",
    "\n",
    "url = 'https://api.binance.com/api/v3/klines?'\n",
    "\n",
    "while True:\n",
    "    if end_time < start_time:\n",
    "        break\n",
    "        \n",
    "    params = {'symbol': symbol,\n",
    "              'interval': interval,\n",
    "             'startTime': start_time,\n",
    "             'endTime': end_time,\n",
    "             'limit': limit}\n",
    "\n",
    "    data = requests.get(url, params).json()\n",
    "    data = pd.DataFrame(data, columns=kline_columns)\n",
    "\n",
    "    df = pd.concat([df, data])\n",
    "\n",
    "    start_time = data.iloc[-1,0]+60000"
   ]
  },
  {
   "cell_type": "code",
   "execution_count": 14,
   "metadata": {},
   "outputs": [],
   "source": [
    "df.to_pickle('data/BTC2.p')"
   ]
  },
  {
   "cell_type": "code",
   "execution_count": null,
   "metadata": {},
   "outputs": [],
   "source": []
  }
 ],
 "metadata": {
  "kernelspec": {
   "display_name": "Python 3",
   "language": "python",
   "name": "python3"
  },
  "language_info": {
   "codemirror_mode": {
    "name": "ipython",
    "version": 3
   },
   "file_extension": ".py",
   "mimetype": "text/x-python",
   "name": "python",
   "nbconvert_exporter": "python",
   "pygments_lexer": "ipython3",
   "version": "3.9.13"
  }
 },
 "nbformat": 4,
 "nbformat_minor": 2
}
